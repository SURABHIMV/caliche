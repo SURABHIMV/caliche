{
  "nbformat": 4,
  "nbformat_minor": 0,
  "metadata": {
    "colab": {
      "provenance": []
    },
    "kernelspec": {
      "name": "python3",
      "display_name": "Python 3"
    },
    "language_info": {
      "name": "python"
    }
  },
  "cells": [
    {
      "cell_type": "code",
      "execution_count": 9,
      "metadata": {
        "colab": {
          "base_uri": "https://localhost:8080/",
          "height": 259
        },
        "id": "dUrIzMH9FmVM",
        "outputId": "57af9a91-f660-4a69-c0a0-666e66d62633"
      },
      "outputs": [
        {
          "output_type": "display_data",
          "data": {
            "text/plain": [
              "<PIL.Image.Image image mode=L size=225x225 at 0x7FD7A5322EF0>"
            ],
            "image/png": "[encoded data removed]"
          },
          "metadata": {}
        },
        {
          "output_type": "execute_result",
          "data": {
            "text/plain": [
              "True"
            ]
          },
          "metadata": {},
          "execution_count": 9
        }
      ],
      "source": [
        "# Creating the binary mask image\n",
        "\n",
        "\n",
        "import cv2\n",
        "from google.colab.patches import cv2_imshow\n",
        "\n",
        "# Load the JPG image                                                            #code taken from chatgpt\n",
        "image = cv2.imread('images_top2.jpg')\n",
        "\n",
        "# Convert the image to grayscale\n",
        "gray = cv2.cvtColor(image, cv2.COLOR_BGR2GRAY)\n",
        "\n",
        "# Apply thresholding to create a binary mask image\n",
        "_, binary_mask = cv2.threshold(gray, 127, 255, cv2.THRESH_BINARY)\n",
        "\n",
        "# Display the binary mask image\n",
        "cv2_imshow(binary_mask)\n",
        "cv2.waitKey(0)\n",
        "cv2.destroyAllWindows()\n",
        "\n",
        "# Save the binary mask image\n",
        "cv2.imwrite('binary_mask.png', binary_mask)"
      ]
    },
    {
      "cell_type": "code",
      "source": [
        "#Dimention calculation in the masked image\n",
        "\n",
        "\n",
        "import cv2\n",
        "\n",
        "# Load the binary mask image\n",
        "mask_image = cv2.imread('binary_mask.png', 0)                                   #code taken from chatgpt\n",
        "\n",
        "# Find contours in the mask image\n",
        "contours, _ = cv2.findContours(mask_image, cv2.RETR_EXTERNAL, cv2.CHAIN_APPROX_SIMPLE)\n",
        "\n",
        "# Measure dimensions of contours\n",
        "for contour in contours:\n",
        "    # Calculate contour dimensions\n",
        "    x, y, width, height = cv2.boundingRect(contour)\n",
        "    #perimeter = cv2.arcLength(contour, True)\n",
        "\n",
        "    # Display the measured dimensions\n",
        "    print(f\"Width: {width} pixels\")\n",
        "    print(f\"Width in cm: {width*0.0264583333} cm\")\n",
        "    print(f\"Height: {height} pixels\")\n",
        "    print(f\"Height in cm: {height*0.0264583333} cm\")\n",
        "    \n",
        "\n",
        "    # Draw the contour and bounding box on the image (optional)\n",
        "    cv2.drawContours(mask_image, [contour], 0, (0, 255, 0), 2)\n",
        "    cv2.rectangle(mask_image, (x, y), (x + width, y + height), (0, 0, 255), 2)\n",
        "\n",
        "# Display the image with contours (optional)\n",
        "cv2_imshow(mask_image)\n",
        "cv2.waitKey(0)\n",
        "cv2.destroyAllWindows()"
      ],
      "metadata": {
        "colab": {
          "base_uri": "https://localhost:8080/",
          "height": 311
        },
        "id": "Zf2APDcKHHJs",
        "outputId": "3c2bd38f-31b4-4529-97c0-88714ac3637f"
      },
      "execution_count": null,
      "outputs": [
        {
          "output_type": "stream",
          "name": "stdout",
          "text": [
            "Width: 225 pixels\n",
            "Width in cm: 5.9531249925 cm\n",
            "Height: 225 pixels\n",
            "Height in cm: 5.9531249925 cm\n"
          ]
        },
        {
          "output_type": "display_data",
          "data": {
            "text/plain": [
              "<PIL.Image.Image image mode=L size=225x225 at 0x7FD7A5323580>"
            ],
            "image/png": "[encoded data removed]"
          },
          "metadata": {}
        }
      ]
    },
    {
      "cell_type": "code",
      "source": [
        "img = cv2.imread('images_top2.jpg')\n",
        "#Converting the image into gray-scale\n",
        "img = cv2.cvtColor(img,cv2.COLOR_BGR2GRAY)\n",
        "cv2_imshow(img)\n",
        "#Finding edges of the image\n",
        "edge_image = cv2.Canny(img,250,200)\n",
        "cv2_imshow(edge_image)"
      ],
      "metadata": {
        "colab": {
          "base_uri": "https://localhost:8080/",
          "height": 467
        },
        "id": "MEBYbVcSHRqs",
        "outputId": "db0c9097-d9d2-4cde-b796-3964c7989eaa"
      },
      "execution_count": 10,
      "outputs": [
        {
          "output_type": "display_data",
          "data": {
            "text/plain": [
              "<PIL.Image.Image image mode=L size=225x225 at 0x7FD7A53225F0>"
            ],
            "image/png": "[encoded data removed]"
          },
          "metadata": {}
        },
        {
          "output_type": "display_data",
          "data": {
            "text/plain": [
              "<PIL.Image.Image image mode=L size=225x225 at 0x7FD7A53225F0>"
            ],
            "image/png": "[encoded data removed]"
          },
          "metadata": {}
        }
      ]
    },
    {
      "cell_type": "code",
      "source": [
        "# Finding all the lines in an image based on given parameters\n",
        "contours, hierarchy = cv2.findContours(edge_image, \n",
        "    cv2.RETR_LIST, cv2.CHAIN_APPROX_SIMPLE)\n",
        "#Reverting the original image back to BGR so we can draw in colors\n",
        "img = cv2.cvtColor(edge_image,cv2.COLOR_GRAY2BGR)\n",
        "#parameter -1 specifies that we want to draw all the contours\n",
        "cv2.drawContours(img, contours, -1, (0, 255, 0), 3)\n",
        "cv2_imshow(img)"
      ],
      "metadata": {
        "colab": {
          "base_uri": "https://localhost:8080/",
          "height": 242
        },
        "id": "AZ_gIt0FIPPf",
        "outputId": "7e61e6be-44d4-4a4e-8fee-9570da9f3e5d"
      },
      "execution_count": 11,
      "outputs": [
        {
          "output_type": "display_data",
          "data": {
            "text/plain": [
              "<PIL.Image.Image image mode=RGB size=225x225 at 0x7FD7A5323B50>"
            ],
            "image/png": "[encoded data removed]"
          },
          "metadata": {}
        }
      ]
    },
    {
      "cell_type": "code",
      "source": [
        "\n",
        "contours, hierarchy = cv2.findContours(edge_image, \n",
        "    cv2.RETR_LIST, cv2.CHAIN_APPROX_SIMPLE)\n",
        "#Reverting the original image back to BGR so we can draw in colors\n",
        "img = cv2.cvtColor(edge_image,cv2.COLOR_GRAY2BGR)\n",
        "#parameter -1 specifies that we want to draw all the contours\n",
        "cv2.drawContours(img, contours, -1, (0, 255, 0), 3)\n",
        "cv2_imshow(img)# Measure dimensions of contours\n",
        "for contour in contours:\n",
        "    # Calculate contour dimensions\n",
        "    x, y, width, height = cv2.boundingRect(contour)\n",
        "    #perimeter = cv2.arcLength(contour, True)\n",
        "\n",
        "    # Display the measured dimensions\n",
        "    print(f\"Width: {width} pixels\")\n",
        "    print(f\"Width in cm: {width*0.0264583333} cm\")\n",
        "    print(f\"Height: {height} pixels\")\n",
        "    print(f\"Height in cm: {height*0.0264583333} cm\")\n",
        "    \n",
        "\n",
        "    # Draw the contour and bounding box on the image (optional)\n",
        "    cv2.drawContours(mask_image, [contour], 0, (0, 255, 0), 2)\n",
        "    cv2.rectangle(mask_image, (x, y), (x + width, y + height), (0, 0, 255), 2)\n",
        "\n",
        "# Display the image with contours (optional)\n",
        "cv2_imshow(mask_image)\n",
        "cv2.waitKey(0)\n",
        "cv2.destroyAllWindows()"
      ],
      "metadata": {
        "colab": {
          "base_uri": "https://localhost:8080/",
          "height": 1000
        },
        "id": "UmV7x0q6ItLK",
        "outputId": "4bf355ce-a719-4ab7-8fd4-335b68332f57"
      },
      "execution_count": 12,
      "outputs": [
        {
          "output_type": "display_data",
          "data": {
            "text/plain": [
              "<PIL.Image.Image image mode=RGB size=225x225 at 0x7FD7CCE87B50>"
            ],
            "image/png": "[encoded data removed]"
          },
          "metadata": {}
        },
        {
          "output_type": "stream",
          "name": "stdout",
          "text": [
            "Width: 2 pixels\n",
            "Width in cm: 0.0529166666 cm\n",
            "Height: 2 pixels\n",
            "Height in cm: 0.0529166666 cm\n",
            "Width: 4 pixels\n",
            "Width in cm: 0.1058333332 cm\n",
            "Height: 4 pixels\n",
            "Height in cm: 0.1058333332 cm\n",
            "Width: 3 pixels\n",
            "Width in cm: 0.0793749999 cm\n",
            "Height: 3 pixels\n",
            "Height in cm: 0.0793749999 cm\n",
            "Width: 2 pixels\n",
            "Width in cm: 0.0529166666 cm\n",
            "Height: 2 pixels\n",
            "Height in cm: 0.0529166666 cm\n",
            "Width: 1 pixels\n",
            "Width in cm: 0.0264583333 cm\n",
            "Height: 3 pixels\n",
            "Height in cm: 0.0793749999 cm\n",
            "Width: 1 pixels\n",
            "Width in cm: 0.0264583333 cm\n",
            "Height: 1 pixels\n",
            "Height in cm: 0.0264583333 cm\n",
            "Width: 1 pixels\n",
            "Width in cm: 0.0264583333 cm\n",
            "Height: 1 pixels\n",
            "Height in cm: 0.0264583333 cm\n",
            "Width: 1 pixels\n",
            "Width in cm: 0.0264583333 cm\n",
            "Height: 1 pixels\n",
            "Height in cm: 0.0264583333 cm\n",
            "Width: 2 pixels\n",
            "Width in cm: 0.0529166666 cm\n",
            "Height: 2 pixels\n",
            "Height in cm: 0.0529166666 cm\n",
            "Width: 1 pixels\n",
            "Width in cm: 0.0264583333 cm\n",
            "Height: 1 pixels\n",
            "Height in cm: 0.0264583333 cm\n",
            "Width: 4 pixels\n",
            "Width in cm: 0.1058333332 cm\n",
            "Height: 6 pixels\n",
            "Height in cm: 0.1587499998 cm\n",
            "Width: 1 pixels\n",
            "Width in cm: 0.0264583333 cm\n",
            "Height: 6 pixels\n",
            "Height in cm: 0.1587499998 cm\n",
            "Width: 1 pixels\n",
            "Width in cm: 0.0264583333 cm\n",
            "Height: 1 pixels\n",
            "Height in cm: 0.0264583333 cm\n",
            "Width: 1 pixels\n",
            "Width in cm: 0.0264583333 cm\n",
            "Height: 1 pixels\n",
            "Height in cm: 0.0264583333 cm\n",
            "Width: 1 pixels\n",
            "Width in cm: 0.0264583333 cm\n",
            "Height: 1 pixels\n",
            "Height in cm: 0.0264583333 cm\n",
            "Width: 31 pixels\n",
            "Width in cm: 0.8202083323 cm\n",
            "Height: 30 pixels\n",
            "Height in cm: 0.793749999 cm\n",
            "Width: 1 pixels\n",
            "Width in cm: 0.0264583333 cm\n",
            "Height: 1 pixels\n",
            "Height in cm: 0.0264583333 cm\n",
            "Width: 31 pixels\n",
            "Width in cm: 0.8202083323 cm\n",
            "Height: 30 pixels\n",
            "Height in cm: 0.793749999 cm\n",
            "Width: 5 pixels\n",
            "Width in cm: 0.13229166650000002 cm\n",
            "Height: 1 pixels\n",
            "Height in cm: 0.0264583333 cm\n",
            "Width: 30 pixels\n",
            "Width in cm: 0.793749999 cm\n",
            "Height: 30 pixels\n",
            "Height in cm: 0.793749999 cm\n",
            "Width: 1 pixels\n",
            "Width in cm: 0.0264583333 cm\n",
            "Height: 1 pixels\n",
            "Height in cm: 0.0264583333 cm\n",
            "Width: 31 pixels\n",
            "Width in cm: 0.8202083323 cm\n",
            "Height: 30 pixels\n",
            "Height in cm: 0.793749999 cm\n",
            "Width: 2 pixels\n",
            "Width in cm: 0.0529166666 cm\n",
            "Height: 1 pixels\n",
            "Height in cm: 0.0264583333 cm\n",
            "Width: 13 pixels\n",
            "Width in cm: 0.3439583329 cm\n",
            "Height: 8 pixels\n",
            "Height in cm: 0.2116666664 cm\n",
            "Width: 3 pixels\n",
            "Width in cm: 0.0793749999 cm\n",
            "Height: 1 pixels\n",
            "Height in cm: 0.0264583333 cm\n",
            "Width: 2 pixels\n",
            "Width in cm: 0.0529166666 cm\n",
            "Height: 1 pixels\n",
            "Height in cm: 0.0264583333 cm\n",
            "Width: 3 pixels\n",
            "Width in cm: 0.0793749999 cm\n",
            "Height: 5 pixels\n",
            "Height in cm: 0.13229166650000002 cm\n",
            "Width: 6 pixels\n",
            "Width in cm: 0.1587499998 cm\n",
            "Height: 15 pixels\n",
            "Height in cm: 0.3968749995 cm\n",
            "Width: 1 pixels\n",
            "Width in cm: 0.0264583333 cm\n",
            "Height: 3 pixels\n",
            "Height in cm: 0.0793749999 cm\n",
            "Width: 3 pixels\n",
            "Width in cm: 0.0793749999 cm\n",
            "Height: 7 pixels\n",
            "Height in cm: 0.1852083331 cm\n",
            "Width: 1 pixels\n",
            "Width in cm: 0.0264583333 cm\n",
            "Height: 5 pixels\n",
            "Height in cm: 0.13229166650000002 cm\n",
            "Width: 3 pixels\n",
            "Width in cm: 0.0793749999 cm\n",
            "Height: 9 pixels\n",
            "Height in cm: 0.2381249997 cm\n",
            "Width: 3 pixels\n",
            "Width in cm: 0.0793749999 cm\n",
            "Height: 4 pixels\n",
            "Height in cm: 0.1058333332 cm\n",
            "Width: 25 pixels\n",
            "Width in cm: 0.6614583325000001 cm\n",
            "Height: 15 pixels\n",
            "Height in cm: 0.3968749995 cm\n",
            "Width: 1 pixels\n",
            "Width in cm: 0.0264583333 cm\n",
            "Height: 8 pixels\n",
            "Height in cm: 0.2116666664 cm\n",
            "Width: 3 pixels\n",
            "Width in cm: 0.0793749999 cm\n",
            "Height: 2 pixels\n",
            "Height in cm: 0.0529166666 cm\n",
            "Width: 4 pixels\n",
            "Width in cm: 0.1058333332 cm\n",
            "Height: 9 pixels\n",
            "Height in cm: 0.2381249997 cm\n",
            "Width: 24 pixels\n",
            "Width in cm: 0.6349999992 cm\n",
            "Height: 23 pixels\n",
            "Height in cm: 0.6085416659 cm\n",
            "Width: 3 pixels\n",
            "Width in cm: 0.0793749999 cm\n",
            "Height: 19 pixels\n",
            "Height in cm: 0.5027083327 cm\n",
            "Width: 3 pixels\n",
            "Width in cm: 0.0793749999 cm\n",
            "Height: 5 pixels\n",
            "Height in cm: 0.13229166650000002 cm\n",
            "Width: 4 pixels\n",
            "Width in cm: 0.1058333332 cm\n",
            "Height: 6 pixels\n",
            "Height in cm: 0.1587499998 cm\n",
            "Width: 3 pixels\n",
            "Width in cm: 0.0793749999 cm\n",
            "Height: 5 pixels\n",
            "Height in cm: 0.13229166650000002 cm\n",
            "Width: 3 pixels\n",
            "Width in cm: 0.0793749999 cm\n",
            "Height: 3 pixels\n",
            "Height in cm: 0.0793749999 cm\n",
            "Width: 5 pixels\n",
            "Width in cm: 0.13229166650000002 cm\n",
            "Height: 7 pixels\n",
            "Height in cm: 0.1852083331 cm\n",
            "Width: 1 pixels\n",
            "Width in cm: 0.0264583333 cm\n",
            "Height: 4 pixels\n",
            "Height in cm: 0.1058333332 cm\n",
            "Width: 44 pixels\n",
            "Width in cm: 1.1641666652 cm\n",
            "Height: 38 pixels\n",
            "Height in cm: 1.0054166654 cm\n",
            "Width: 1 pixels\n",
            "Width in cm: 0.0264583333 cm\n",
            "Height: 1 pixels\n",
            "Height in cm: 0.0264583333 cm\n",
            "Width: 4 pixels\n",
            "Width in cm: 0.1058333332 cm\n",
            "Height: 4 pixels\n",
            "Height in cm: 0.1058333332 cm\n",
            "Width: 3 pixels\n",
            "Width in cm: 0.0793749999 cm\n",
            "Height: 7 pixels\n",
            "Height in cm: 0.1852083331 cm\n",
            "Width: 1 pixels\n",
            "Width in cm: 0.0264583333 cm\n",
            "Height: 3 pixels\n",
            "Height in cm: 0.0793749999 cm\n",
            "Width: 3 pixels\n",
            "Width in cm: 0.0793749999 cm\n",
            "Height: 6 pixels\n",
            "Height in cm: 0.1587499998 cm\n",
            "Width: 5 pixels\n",
            "Width in cm: 0.13229166650000002 cm\n",
            "Height: 30 pixels\n",
            "Height in cm: 0.793749999 cm\n",
            "Width: 15 pixels\n",
            "Width in cm: 0.3968749995 cm\n",
            "Height: 27 pixels\n",
            "Height in cm: 0.7143749991 cm\n",
            "Width: 3 pixels\n",
            "Width in cm: 0.0793749999 cm\n",
            "Height: 5 pixels\n",
            "Height in cm: 0.13229166650000002 cm\n",
            "Width: 3 pixels\n",
            "Width in cm: 0.0793749999 cm\n",
            "Height: 5 pixels\n",
            "Height in cm: 0.13229166650000002 cm\n",
            "Width: 11 pixels\n",
            "Width in cm: 0.2910416663 cm\n",
            "Height: 3 pixels\n",
            "Height in cm: 0.0793749999 cm\n",
            "Width: 4 pixels\n",
            "Width in cm: 0.1058333332 cm\n",
            "Height: 3 pixels\n",
            "Height in cm: 0.0793749999 cm\n",
            "Width: 3 pixels\n",
            "Width in cm: 0.0793749999 cm\n",
            "Height: 8 pixels\n",
            "Height in cm: 0.2116666664 cm\n",
            "Width: 4 pixels\n",
            "Width in cm: 0.1058333332 cm\n",
            "Height: 7 pixels\n",
            "Height in cm: 0.1852083331 cm\n",
            "Width: 3 pixels\n",
            "Width in cm: 0.0793749999 cm\n",
            "Height: 4 pixels\n",
            "Height in cm: 0.1058333332 cm\n",
            "Width: 3 pixels\n",
            "Width in cm: 0.0793749999 cm\n",
            "Height: 4 pixels\n",
            "Height in cm: 0.1058333332 cm\n",
            "Width: 3 pixels\n",
            "Width in cm: 0.0793749999 cm\n",
            "Height: 4 pixels\n",
            "Height in cm: 0.1058333332 cm\n",
            "Width: 2 pixels\n",
            "Width in cm: 0.0529166666 cm\n",
            "Height: 2 pixels\n",
            "Height in cm: 0.0529166666 cm\n",
            "Width: 28 pixels\n",
            "Width in cm: 0.7408333324 cm\n",
            "Height: 26 pixels\n",
            "Height in cm: 0.6879166658 cm\n",
            "Width: 31 pixels\n",
            "Width in cm: 0.8202083323 cm\n",
            "Height: 32 pixels\n",
            "Height in cm: 0.8466666656 cm\n",
            "Width: 2 pixels\n",
            "Width in cm: 0.0529166666 cm\n",
            "Height: 2 pixels\n",
            "Height in cm: 0.0529166666 cm\n",
            "Width: 30 pixels\n",
            "Width in cm: 0.793749999 cm\n",
            "Height: 30 pixels\n",
            "Height in cm: 0.793749999 cm\n",
            "Width: 1 pixels\n",
            "Width in cm: 0.0264583333 cm\n",
            "Height: 1 pixels\n",
            "Height in cm: 0.0264583333 cm\n",
            "Width: 199 pixels\n",
            "Width in cm: 5.2652083267 cm\n",
            "Height: 196 pixels\n",
            "Height in cm: 5.1858333268 cm\n"
          ]
        },
        {
          "output_type": "display_data",
          "data": {
            "text/plain": [
              "<PIL.Image.Image image mode=L size=225x225 at 0x7FD7A5322380>"
            ],
            "image/png": "[encoded data removed]"
          },
          "metadata": {}
        }
      ]
    }
  ]
}